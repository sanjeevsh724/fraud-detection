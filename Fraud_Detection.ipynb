{
 "cells": [
  {
   "cell_type": "code",
   "execution_count": 6,
   "metadata": {
    "id": "FK6vtiaB8T51"
   },
   "outputs": [],
   "source": [
    "import numpy as np\n",
    "import pandas as pd\n",
    "from sklearn.model_selection import train_test_split\n",
    "from sklearn.linear_model import LogisticRegression\n",
    "from sklearn.metrics import accuracy_score"
   ]
  },
  {
   "cell_type": "code",
   "execution_count": 21,
   "metadata": {
    "id": "L44gD2PlCptM"
   },
   "outputs": [],
   "source": [
    "#loading the dataset to a Pandas DataFrame\n",
    "\n",
    "fraud_ = pd.read_csv(\"C:\\\\Users\\\\Sanjeev  Sharma\\\\Desktop\\\\Fraud.csv\")"
   ]
  },
  {
   "cell_type": "code",
   "execution_count": 22,
   "metadata": {
    "colab": {
     "base_uri": "https://localhost:8080/",
     "height": 223
    },
    "id": "hRrcaIP6Cv_0",
    "outputId": "5265fc7b-abf6-4c24-a66e-a896acb997a6"
   },
   "outputs": [
    {
     "data": {
      "text/html": [
       "<div>\n",
       "<style scoped>\n",
       "    .dataframe tbody tr th:only-of-type {\n",
       "        vertical-align: middle;\n",
       "    }\n",
       "\n",
       "    .dataframe tbody tr th {\n",
       "        vertical-align: top;\n",
       "    }\n",
       "\n",
       "    .dataframe thead th {\n",
       "        text-align: right;\n",
       "    }\n",
       "</style>\n",
       "<table border=\"1\" class=\"dataframe\">\n",
       "  <thead>\n",
       "    <tr style=\"text-align: right;\">\n",
       "      <th></th>\n",
       "      <th>step</th>\n",
       "      <th>type</th>\n",
       "      <th>amount</th>\n",
       "      <th>nameOrig</th>\n",
       "      <th>oldbalanceOrg</th>\n",
       "      <th>newbalanceOrig</th>\n",
       "      <th>nameDest</th>\n",
       "      <th>oldbalanceDest</th>\n",
       "      <th>newbalanceDest</th>\n",
       "      <th>isFraud</th>\n",
       "      <th>isFlaggedFraud</th>\n",
       "    </tr>\n",
       "  </thead>\n",
       "  <tbody>\n",
       "    <tr>\n",
       "      <td>0</td>\n",
       "      <td>1</td>\n",
       "      <td>PAYMENT</td>\n",
       "      <td>9839.64</td>\n",
       "      <td>C1231006815</td>\n",
       "      <td>170136.0</td>\n",
       "      <td>160296.36</td>\n",
       "      <td>M1979787155</td>\n",
       "      <td>0.0</td>\n",
       "      <td>0.0</td>\n",
       "      <td>0</td>\n",
       "      <td>0</td>\n",
       "    </tr>\n",
       "    <tr>\n",
       "      <td>1</td>\n",
       "      <td>1</td>\n",
       "      <td>PAYMENT</td>\n",
       "      <td>1864.28</td>\n",
       "      <td>C1666544295</td>\n",
       "      <td>21249.0</td>\n",
       "      <td>19384.72</td>\n",
       "      <td>M2044282225</td>\n",
       "      <td>0.0</td>\n",
       "      <td>0.0</td>\n",
       "      <td>0</td>\n",
       "      <td>0</td>\n",
       "    </tr>\n",
       "    <tr>\n",
       "      <td>2</td>\n",
       "      <td>1</td>\n",
       "      <td>TRANSFER</td>\n",
       "      <td>181.00</td>\n",
       "      <td>C1305486145</td>\n",
       "      <td>181.0</td>\n",
       "      <td>0.00</td>\n",
       "      <td>C553264065</td>\n",
       "      <td>0.0</td>\n",
       "      <td>0.0</td>\n",
       "      <td>1</td>\n",
       "      <td>0</td>\n",
       "    </tr>\n",
       "    <tr>\n",
       "      <td>3</td>\n",
       "      <td>1</td>\n",
       "      <td>CASH_OUT</td>\n",
       "      <td>181.00</td>\n",
       "      <td>C840083671</td>\n",
       "      <td>181.0</td>\n",
       "      <td>0.00</td>\n",
       "      <td>C38997010</td>\n",
       "      <td>21182.0</td>\n",
       "      <td>0.0</td>\n",
       "      <td>1</td>\n",
       "      <td>0</td>\n",
       "    </tr>\n",
       "    <tr>\n",
       "      <td>4</td>\n",
       "      <td>1</td>\n",
       "      <td>PAYMENT</td>\n",
       "      <td>11668.14</td>\n",
       "      <td>C2048537720</td>\n",
       "      <td>41554.0</td>\n",
       "      <td>29885.86</td>\n",
       "      <td>M1230701703</td>\n",
       "      <td>0.0</td>\n",
       "      <td>0.0</td>\n",
       "      <td>0</td>\n",
       "      <td>0</td>\n",
       "    </tr>\n",
       "  </tbody>\n",
       "</table>\n",
       "</div>"
      ],
      "text/plain": [
       "   step      type    amount     nameOrig  oldbalanceOrg  newbalanceOrig  \\\n",
       "0     1   PAYMENT   9839.64  C1231006815       170136.0       160296.36   \n",
       "1     1   PAYMENT   1864.28  C1666544295        21249.0        19384.72   \n",
       "2     1  TRANSFER    181.00  C1305486145          181.0            0.00   \n",
       "3     1  CASH_OUT    181.00   C840083671          181.0            0.00   \n",
       "4     1   PAYMENT  11668.14  C2048537720        41554.0        29885.86   \n",
       "\n",
       "      nameDest  oldbalanceDest  newbalanceDest  isFraud  isFlaggedFraud  \n",
       "0  M1979787155             0.0             0.0        0               0  \n",
       "1  M2044282225             0.0             0.0        0               0  \n",
       "2   C553264065             0.0             0.0        1               0  \n",
       "3    C38997010         21182.0             0.0        1               0  \n",
       "4  M1230701703             0.0             0.0        0               0  "
      ]
     },
     "execution_count": 22,
     "metadata": {},
     "output_type": "execute_result"
    }
   ],
   "source": [
    "fraud_.head()"
   ]
  },
  {
   "cell_type": "code",
   "execution_count": 23,
   "metadata": {
    "colab": {
     "base_uri": "https://localhost:8080/",
     "height": 223
    },
    "id": "0MaBF9kuCyk7",
    "outputId": "4bd74368-a078-4f14-db36-57d3e4d3a524"
   },
   "outputs": [
    {
     "data": {
      "text/html": [
       "<div>\n",
       "<style scoped>\n",
       "    .dataframe tbody tr th:only-of-type {\n",
       "        vertical-align: middle;\n",
       "    }\n",
       "\n",
       "    .dataframe tbody tr th {\n",
       "        vertical-align: top;\n",
       "    }\n",
       "\n",
       "    .dataframe thead th {\n",
       "        text-align: right;\n",
       "    }\n",
       "</style>\n",
       "<table border=\"1\" class=\"dataframe\">\n",
       "  <thead>\n",
       "    <tr style=\"text-align: right;\">\n",
       "      <th></th>\n",
       "      <th>step</th>\n",
       "      <th>type</th>\n",
       "      <th>amount</th>\n",
       "      <th>nameOrig</th>\n",
       "      <th>oldbalanceOrg</th>\n",
       "      <th>newbalanceOrig</th>\n",
       "      <th>nameDest</th>\n",
       "      <th>oldbalanceDest</th>\n",
       "      <th>newbalanceDest</th>\n",
       "      <th>isFraud</th>\n",
       "      <th>isFlaggedFraud</th>\n",
       "    </tr>\n",
       "  </thead>\n",
       "  <tbody>\n",
       "    <tr>\n",
       "      <td>1048570</td>\n",
       "      <td>95</td>\n",
       "      <td>CASH_OUT</td>\n",
       "      <td>132557.35</td>\n",
       "      <td>C1179511630</td>\n",
       "      <td>479803.00</td>\n",
       "      <td>347245.65</td>\n",
       "      <td>C435674507</td>\n",
       "      <td>484329.37</td>\n",
       "      <td>616886.72</td>\n",
       "      <td>0</td>\n",
       "      <td>0</td>\n",
       "    </tr>\n",
       "    <tr>\n",
       "      <td>1048571</td>\n",
       "      <td>95</td>\n",
       "      <td>PAYMENT</td>\n",
       "      <td>9917.36</td>\n",
       "      <td>C1956161225</td>\n",
       "      <td>90545.00</td>\n",
       "      <td>80627.64</td>\n",
       "      <td>M668364942</td>\n",
       "      <td>0.00</td>\n",
       "      <td>0.00</td>\n",
       "      <td>0</td>\n",
       "      <td>0</td>\n",
       "    </tr>\n",
       "    <tr>\n",
       "      <td>1048572</td>\n",
       "      <td>95</td>\n",
       "      <td>PAYMENT</td>\n",
       "      <td>14140.05</td>\n",
       "      <td>C2037964975</td>\n",
       "      <td>20545.00</td>\n",
       "      <td>6404.95</td>\n",
       "      <td>M1355182933</td>\n",
       "      <td>0.00</td>\n",
       "      <td>0.00</td>\n",
       "      <td>0</td>\n",
       "      <td>0</td>\n",
       "    </tr>\n",
       "    <tr>\n",
       "      <td>1048573</td>\n",
       "      <td>95</td>\n",
       "      <td>PAYMENT</td>\n",
       "      <td>10020.05</td>\n",
       "      <td>C1633237354</td>\n",
       "      <td>90605.00</td>\n",
       "      <td>80584.95</td>\n",
       "      <td>M1964992463</td>\n",
       "      <td>0.00</td>\n",
       "      <td>0.00</td>\n",
       "      <td>0</td>\n",
       "      <td>0</td>\n",
       "    </tr>\n",
       "    <tr>\n",
       "      <td>1048574</td>\n",
       "      <td>95</td>\n",
       "      <td>PAYMENT</td>\n",
       "      <td>11450.03</td>\n",
       "      <td>C1264356443</td>\n",
       "      <td>80584.95</td>\n",
       "      <td>69134.92</td>\n",
       "      <td>M677577406</td>\n",
       "      <td>0.00</td>\n",
       "      <td>0.00</td>\n",
       "      <td>0</td>\n",
       "      <td>0</td>\n",
       "    </tr>\n",
       "  </tbody>\n",
       "</table>\n",
       "</div>"
      ],
      "text/plain": [
       "         step      type     amount     nameOrig  oldbalanceOrg  \\\n",
       "1048570    95  CASH_OUT  132557.35  C1179511630      479803.00   \n",
       "1048571    95   PAYMENT    9917.36  C1956161225       90545.00   \n",
       "1048572    95   PAYMENT   14140.05  C2037964975       20545.00   \n",
       "1048573    95   PAYMENT   10020.05  C1633237354       90605.00   \n",
       "1048574    95   PAYMENT   11450.03  C1264356443       80584.95   \n",
       "\n",
       "         newbalanceOrig     nameDest  oldbalanceDest  newbalanceDest  isFraud  \\\n",
       "1048570       347245.65   C435674507       484329.37       616886.72        0   \n",
       "1048571        80627.64   M668364942            0.00            0.00        0   \n",
       "1048572         6404.95  M1355182933            0.00            0.00        0   \n",
       "1048573        80584.95  M1964992463            0.00            0.00        0   \n",
       "1048574        69134.92   M677577406            0.00            0.00        0   \n",
       "\n",
       "         isFlaggedFraud  \n",
       "1048570               0  \n",
       "1048571               0  \n",
       "1048572               0  \n",
       "1048573               0  \n",
       "1048574               0  "
      ]
     },
     "execution_count": 23,
     "metadata": {},
     "output_type": "execute_result"
    }
   ],
   "source": [
    "fraud_.tail()"
   ]
  },
  {
   "cell_type": "code",
   "execution_count": 24,
   "metadata": {
    "colab": {
     "base_uri": "https://localhost:8080/"
    },
    "id": "H7bD0daoC0Jl",
    "outputId": "7546f901-1fb8-4f3f-c095-f64e096f1296"
   },
   "outputs": [
    {
     "name": "stdout",
     "output_type": "stream",
     "text": [
      "<class 'pandas.core.frame.DataFrame'>\n",
      "RangeIndex: 1048575 entries, 0 to 1048574\n",
      "Data columns (total 11 columns):\n",
      "step              1048575 non-null int64\n",
      "type              1048575 non-null object\n",
      "amount            1048575 non-null float64\n",
      "nameOrig          1048575 non-null object\n",
      "oldbalanceOrg     1048575 non-null float64\n",
      "newbalanceOrig    1048575 non-null float64\n",
      "nameDest          1048575 non-null object\n",
      "oldbalanceDest    1048575 non-null float64\n",
      "newbalanceDest    1048575 non-null float64\n",
      "isFraud           1048575 non-null int64\n",
      "isFlaggedFraud    1048575 non-null int64\n",
      "dtypes: float64(5), int64(3), object(3)\n",
      "memory usage: 88.0+ MB\n"
     ]
    }
   ],
   "source": [
    "fraud_.info()"
   ]
  },
  {
   "cell_type": "code",
   "execution_count": 26,
   "metadata": {
    "colab": {
     "base_uri": "https://localhost:8080/"
    },
    "id": "O57rEj5DC1uD",
    "outputId": "aff23b2f-6bb3-40dd-b029-709a44f0204a"
   },
   "outputs": [
    {
     "data": {
      "text/plain": [
       "step              0\n",
       "type              0\n",
       "amount            0\n",
       "nameOrig          0\n",
       "oldbalanceOrg     0\n",
       "newbalanceOrig    0\n",
       "nameDest          0\n",
       "oldbalanceDest    0\n",
       "newbalanceDest    0\n",
       "isFraud           0\n",
       "isFlaggedFraud    0\n",
       "dtype: int64"
      ]
     },
     "execution_count": 26,
     "metadata": {},
     "output_type": "execute_result"
    }
   ],
   "source": [
    "#checking the number of missing values in each column\n",
    "fraud_.isnull().sum()"
   ]
  },
  {
   "cell_type": "code",
   "execution_count": 28,
   "metadata": {
    "colab": {
     "base_uri": "https://localhost:8080/"
    },
    "id": "kHZ3xqtwC5Eo",
    "outputId": "3a427f5e-3f25-4005-de8d-28bc58f51a55"
   },
   "outputs": [
    {
     "data": {
      "text/plain": [
       "0.00           342214\n",
       "109.00            167\n",
       "195.00            161\n",
       "147.00            160\n",
       "141.00            159\n",
       "                ...  \n",
       "107114.32           1\n",
       "156608.00           1\n",
       "10954282.32         1\n",
       "729977.50           1\n",
       "27507476.35         1\n",
       "Name: oldbalanceOrg, Length: 415945, dtype: int64"
      ]
     },
     "execution_count": 28,
     "metadata": {},
     "output_type": "execute_result"
    }
   ],
   "source": [
    "#distribution of legit transactions & fraudulent transactions\n",
    "fraud_['oldbalanceOrg'].value_counts()"
   ]
  },
  {
   "cell_type": "markdown",
   "metadata": {
    "id": "SIYpCTxxC_u7"
   },
   "source": [
    "This Dataset is Highly Unbalanced\n",
    "\n",
    "0 --> Normal Transaction\n",
    "1 --> Fraudulent Transaction"
   ]
  },
  {
   "cell_type": "code",
   "execution_count": 29,
   "metadata": {
    "id": "QfADx3mdC8c1"
   },
   "outputs": [],
   "source": [
    "#separating the data for analysis\n",
    "legit = fraud_[fraud_.oldbalanceOrg == 0]\n",
    "fraud = fraud_[fraud_.oldbalanceOrg == 1]"
   ]
  },
  {
   "cell_type": "code",
   "execution_count": 30,
   "metadata": {
    "colab": {
     "base_uri": "https://localhost:8080/"
    },
    "id": "OAYzlLtHDKoy",
    "outputId": "7fa72ac0-b00d-45a8-fbcf-3540052b05d1"
   },
   "outputs": [
    {
     "name": "stdout",
     "output_type": "stream",
     "text": [
      "(342214, 11)\n",
      "(57, 11)\n"
     ]
    }
   ],
   "source": [
    "print(legit.shape)\n",
    "print(fraud.shape)"
   ]
  },
  {
   "cell_type": "code",
   "execution_count": 31,
   "metadata": {
    "colab": {
     "base_uri": "https://localhost:8080/"
    },
    "id": "cir6ALxkDMIa",
    "outputId": "9bedb752-8856-4218-d997-798382491c25"
   },
   "outputs": [
    {
     "data": {
      "text/plain": [
       "count    3.422140e+05\n",
       "mean     1.709756e+05\n",
       "std      2.885944e+05\n",
       "min      1.000000e-01\n",
       "25%      1.184820e+04\n",
       "50%      7.419249e+04\n",
       "75%      2.184018e+05\n",
       "max      5.860863e+06\n",
       "Name: amount, dtype: float64"
      ]
     },
     "execution_count": 31,
     "metadata": {},
     "output_type": "execute_result"
    }
   ],
   "source": [
    "#statistical measures of the data\n",
    "legit.amount.describe()"
   ]
  },
  {
   "cell_type": "code",
   "execution_count": 32,
   "metadata": {
    "colab": {
     "base_uri": "https://localhost:8080/"
    },
    "id": "rs1vrV2-DOor",
    "outputId": "3f029505-fd95-42ac-ec57-42e6a9b1093d"
   },
   "outputs": [
    {
     "data": {
      "text/plain": [
       "count        57.000000\n",
       "mean     103118.529825\n",
       "std      115672.628703\n",
       "min        1168.280000\n",
       "25%       12491.570000\n",
       "50%       51790.190000\n",
       "75%      168226.140000\n",
       "max      437983.860000\n",
       "Name: amount, dtype: float64"
      ]
     },
     "execution_count": 32,
     "metadata": {},
     "output_type": "execute_result"
    }
   ],
   "source": [
    "fraud.amount.describe()"
   ]
  },
  {
   "cell_type": "code",
   "execution_count": 34,
   "metadata": {
    "colab": {
     "base_uri": "https://localhost:8080/",
     "height": 162
    },
    "id": "xQP2XYh-DQYc",
    "outputId": "bcc5d05b-001d-40e8-ad80-82b4a1630988"
   },
   "outputs": [
    {
     "data": {
      "text/html": [
       "<div>\n",
       "<style scoped>\n",
       "    .dataframe tbody tr th:only-of-type {\n",
       "        vertical-align: middle;\n",
       "    }\n",
       "\n",
       "    .dataframe tbody tr th {\n",
       "        vertical-align: top;\n",
       "    }\n",
       "\n",
       "    .dataframe thead th {\n",
       "        text-align: right;\n",
       "    }\n",
       "</style>\n",
       "<table border=\"1\" class=\"dataframe\">\n",
       "  <thead>\n",
       "    <tr style=\"text-align: right;\">\n",
       "      <th></th>\n",
       "      <th>step</th>\n",
       "      <th>oldbalanceOrg</th>\n",
       "      <th>newbalanceOrig</th>\n",
       "      <th>oldbalanceDest</th>\n",
       "      <th>newbalanceDest</th>\n",
       "      <th>isFraud</th>\n",
       "      <th>isFlaggedFraud</th>\n",
       "    </tr>\n",
       "    <tr>\n",
       "      <th>amount</th>\n",
       "      <th></th>\n",
       "      <th></th>\n",
       "      <th></th>\n",
       "      <th></th>\n",
       "      <th></th>\n",
       "      <th></th>\n",
       "      <th></th>\n",
       "    </tr>\n",
       "  </thead>\n",
       "  <tbody>\n",
       "    <tr>\n",
       "      <td>0.10</td>\n",
       "      <td>17.000000</td>\n",
       "      <td>0.000000e+00</td>\n",
       "      <td>0.000000e+00</td>\n",
       "      <td>0.000</td>\n",
       "      <td>0.000000e+00</td>\n",
       "      <td>0.0</td>\n",
       "      <td>0.0</td>\n",
       "    </tr>\n",
       "    <tr>\n",
       "      <td>0.14</td>\n",
       "      <td>40.000000</td>\n",
       "      <td>0.000000e+00</td>\n",
       "      <td>0.000000e+00</td>\n",
       "      <td>0.000</td>\n",
       "      <td>0.000000e+00</td>\n",
       "      <td>0.0</td>\n",
       "      <td>0.0</td>\n",
       "    </tr>\n",
       "    <tr>\n",
       "      <td>0.20</td>\n",
       "      <td>42.000000</td>\n",
       "      <td>5.738810e+05</td>\n",
       "      <td>5.738808e+05</td>\n",
       "      <td>0.000</td>\n",
       "      <td>0.000000e+00</td>\n",
       "      <td>0.0</td>\n",
       "      <td>0.0</td>\n",
       "    </tr>\n",
       "    <tr>\n",
       "      <td>0.26</td>\n",
       "      <td>45.000000</td>\n",
       "      <td>2.423850e+05</td>\n",
       "      <td>2.423847e+05</td>\n",
       "      <td>0.000</td>\n",
       "      <td>0.000000e+00</td>\n",
       "      <td>0.0</td>\n",
       "      <td>0.0</td>\n",
       "    </tr>\n",
       "    <tr>\n",
       "      <td>0.30</td>\n",
       "      <td>13.000000</td>\n",
       "      <td>1.748006e+05</td>\n",
       "      <td>1.748003e+05</td>\n",
       "      <td>0.000</td>\n",
       "      <td>0.000000e+00</td>\n",
       "      <td>0.0</td>\n",
       "      <td>0.0</td>\n",
       "    </tr>\n",
       "    <tr>\n",
       "      <td>...</td>\n",
       "      <td>...</td>\n",
       "      <td>...</td>\n",
       "      <td>...</td>\n",
       "      <td>...</td>\n",
       "      <td>...</td>\n",
       "      <td>...</td>\n",
       "      <td>...</td>\n",
       "    </tr>\n",
       "    <tr>\n",
       "      <td>9345700.07</td>\n",
       "      <td>88.000000</td>\n",
       "      <td>9.345700e+06</td>\n",
       "      <td>0.000000e+00</td>\n",
       "      <td>4461030.215</td>\n",
       "      <td>9.133880e+06</td>\n",
       "      <td>1.0</td>\n",
       "      <td>0.0</td>\n",
       "    </tr>\n",
       "    <tr>\n",
       "      <td>9465988.82</td>\n",
       "      <td>35.000000</td>\n",
       "      <td>9.465989e+06</td>\n",
       "      <td>0.000000e+00</td>\n",
       "      <td>0.000</td>\n",
       "      <td>4.732994e+06</td>\n",
       "      <td>1.0</td>\n",
       "      <td>0.0</td>\n",
       "    </tr>\n",
       "    <tr>\n",
       "      <td>9887819.06</td>\n",
       "      <td>33.000000</td>\n",
       "      <td>9.887819e+06</td>\n",
       "      <td>0.000000e+00</td>\n",
       "      <td>400956.975</td>\n",
       "      <td>5.082600e+06</td>\n",
       "      <td>1.0</td>\n",
       "      <td>0.0</td>\n",
       "    </tr>\n",
       "    <tr>\n",
       "      <td>9977761.05</td>\n",
       "      <td>46.000000</td>\n",
       "      <td>9.977761e+06</td>\n",
       "      <td>0.000000e+00</td>\n",
       "      <td>0.000</td>\n",
       "      <td>4.988881e+06</td>\n",
       "      <td>1.0</td>\n",
       "      <td>0.0</td>\n",
       "    </tr>\n",
       "    <tr>\n",
       "      <td>10000000.00</td>\n",
       "      <td>54.285714</td>\n",
       "      <td>1.271591e+07</td>\n",
       "      <td>2.715909e+06</td>\n",
       "      <td>68529.420</td>\n",
       "      <td>5.052815e+06</td>\n",
       "      <td>1.0</td>\n",
       "      <td>0.0</td>\n",
       "    </tr>\n",
       "  </tbody>\n",
       "</table>\n",
       "<p>1009606 rows × 7 columns</p>\n",
       "</div>"
      ],
      "text/plain": [
       "                  step  oldbalanceOrg  newbalanceOrig  oldbalanceDest  \\\n",
       "amount                                                                  \n",
       "0.10         17.000000   0.000000e+00    0.000000e+00           0.000   \n",
       "0.14         40.000000   0.000000e+00    0.000000e+00           0.000   \n",
       "0.20         42.000000   5.738810e+05    5.738808e+05           0.000   \n",
       "0.26         45.000000   2.423850e+05    2.423847e+05           0.000   \n",
       "0.30         13.000000   1.748006e+05    1.748003e+05           0.000   \n",
       "...                ...            ...             ...             ...   \n",
       "9345700.07   88.000000   9.345700e+06    0.000000e+00     4461030.215   \n",
       "9465988.82   35.000000   9.465989e+06    0.000000e+00           0.000   \n",
       "9887819.06   33.000000   9.887819e+06    0.000000e+00      400956.975   \n",
       "9977761.05   46.000000   9.977761e+06    0.000000e+00           0.000   \n",
       "10000000.00  54.285714   1.271591e+07    2.715909e+06       68529.420   \n",
       "\n",
       "             newbalanceDest  isFraud  isFlaggedFraud  \n",
       "amount                                                \n",
       "0.10           0.000000e+00      0.0             0.0  \n",
       "0.14           0.000000e+00      0.0             0.0  \n",
       "0.20           0.000000e+00      0.0             0.0  \n",
       "0.26           0.000000e+00      0.0             0.0  \n",
       "0.30           0.000000e+00      0.0             0.0  \n",
       "...                     ...      ...             ...  \n",
       "9345700.07     9.133880e+06      1.0             0.0  \n",
       "9465988.82     4.732994e+06      1.0             0.0  \n",
       "9887819.06     5.082600e+06      1.0             0.0  \n",
       "9977761.05     4.988881e+06      1.0             0.0  \n",
       "10000000.00    5.052815e+06      1.0             0.0  \n",
       "\n",
       "[1009606 rows x 7 columns]"
      ]
     },
     "execution_count": 34,
     "metadata": {},
     "output_type": "execute_result"
    }
   ],
   "source": [
    "#compare the values for both transactions\n",
    "fraud_.groupby('amount').mean()"
   ]
  },
  {
   "cell_type": "markdown",
   "metadata": {
    "id": "TbUcihrEDVM0"
   },
   "source": [
    "Under-Sampling:\n",
    "\n",
    "Build a sample dataset containing similar distribution of Normal Transactions and Fraudulent Transactions"
   ]
  },
  {
   "cell_type": "markdown",
   "metadata": {
    "id": "0wqv0N1dDhTT"
   },
   "source": [
    "Number of Fraudulent Transactions --> 492"
   ]
  },
  {
   "cell_type": "code",
   "execution_count": 35,
   "metadata": {
    "id": "kMhRAKtCDS94"
   },
   "outputs": [],
   "source": [
    "legit_sample = legit.sample(n=492)"
   ]
  },
  {
   "cell_type": "markdown",
   "metadata": {
    "id": "2zLLgbr_DlEs"
   },
   "source": [
    "Concatenating two DataFrames:"
   ]
  },
  {
   "cell_type": "code",
   "execution_count": 36,
   "metadata": {
    "id": "YGi0YqQWDjch"
   },
   "outputs": [],
   "source": [
    "new_dataset = pd.concat([legit_sample, fraud], axis=0)"
   ]
  },
  {
   "cell_type": "code",
   "execution_count": 37,
   "metadata": {
    "colab": {
     "base_uri": "https://localhost:8080/",
     "height": 223
    },
    "id": "Lr0VHCwBDqs9",
    "outputId": "6c2fb935-1570-4d04-8c57-dc62925ffa68"
   },
   "outputs": [
    {
     "data": {
      "text/html": [
       "<div>\n",
       "<style scoped>\n",
       "    .dataframe tbody tr th:only-of-type {\n",
       "        vertical-align: middle;\n",
       "    }\n",
       "\n",
       "    .dataframe tbody tr th {\n",
       "        vertical-align: top;\n",
       "    }\n",
       "\n",
       "    .dataframe thead th {\n",
       "        text-align: right;\n",
       "    }\n",
       "</style>\n",
       "<table border=\"1\" class=\"dataframe\">\n",
       "  <thead>\n",
       "    <tr style=\"text-align: right;\">\n",
       "      <th></th>\n",
       "      <th>step</th>\n",
       "      <th>type</th>\n",
       "      <th>amount</th>\n",
       "      <th>nameOrig</th>\n",
       "      <th>oldbalanceOrg</th>\n",
       "      <th>newbalanceOrig</th>\n",
       "      <th>nameDest</th>\n",
       "      <th>oldbalanceDest</th>\n",
       "      <th>newbalanceDest</th>\n",
       "      <th>isFraud</th>\n",
       "      <th>isFlaggedFraud</th>\n",
       "    </tr>\n",
       "  </thead>\n",
       "  <tbody>\n",
       "    <tr>\n",
       "      <td>824967</td>\n",
       "      <td>41</td>\n",
       "      <td>TRANSFER</td>\n",
       "      <td>601884.31</td>\n",
       "      <td>C1581786713</td>\n",
       "      <td>0.0</td>\n",
       "      <td>0.0</td>\n",
       "      <td>C1232579010</td>\n",
       "      <td>2541014.23</td>\n",
       "      <td>3142898.54</td>\n",
       "      <td>0</td>\n",
       "      <td>0</td>\n",
       "    </tr>\n",
       "    <tr>\n",
       "      <td>198186</td>\n",
       "      <td>13</td>\n",
       "      <td>TRANSFER</td>\n",
       "      <td>685652.08</td>\n",
       "      <td>C521959510</td>\n",
       "      <td>0.0</td>\n",
       "      <td>0.0</td>\n",
       "      <td>C1624477723</td>\n",
       "      <td>5239551.92</td>\n",
       "      <td>6453881.16</td>\n",
       "      <td>0</td>\n",
       "      <td>0</td>\n",
       "    </tr>\n",
       "    <tr>\n",
       "      <td>107168</td>\n",
       "      <td>10</td>\n",
       "      <td>CASH_OUT</td>\n",
       "      <td>35628.77</td>\n",
       "      <td>C128152295</td>\n",
       "      <td>0.0</td>\n",
       "      <td>0.0</td>\n",
       "      <td>C1347294617</td>\n",
       "      <td>1504513.19</td>\n",
       "      <td>1540141.96</td>\n",
       "      <td>0</td>\n",
       "      <td>0</td>\n",
       "    </tr>\n",
       "    <tr>\n",
       "      <td>44585</td>\n",
       "      <td>9</td>\n",
       "      <td>PAYMENT</td>\n",
       "      <td>8489.66</td>\n",
       "      <td>C155879359</td>\n",
       "      <td>0.0</td>\n",
       "      <td>0.0</td>\n",
       "      <td>M140771514</td>\n",
       "      <td>0.00</td>\n",
       "      <td>0.00</td>\n",
       "      <td>0</td>\n",
       "      <td>0</td>\n",
       "    </tr>\n",
       "    <tr>\n",
       "      <td>633386</td>\n",
       "      <td>35</td>\n",
       "      <td>PAYMENT</td>\n",
       "      <td>418.79</td>\n",
       "      <td>C1139969983</td>\n",
       "      <td>0.0</td>\n",
       "      <td>0.0</td>\n",
       "      <td>M1830667392</td>\n",
       "      <td>0.00</td>\n",
       "      <td>0.00</td>\n",
       "      <td>0</td>\n",
       "      <td>0</td>\n",
       "    </tr>\n",
       "  </tbody>\n",
       "</table>\n",
       "</div>"
      ],
      "text/plain": [
       "        step      type     amount     nameOrig  oldbalanceOrg  newbalanceOrig  \\\n",
       "824967    41  TRANSFER  601884.31  C1581786713            0.0             0.0   \n",
       "198186    13  TRANSFER  685652.08   C521959510            0.0             0.0   \n",
       "107168    10  CASH_OUT   35628.77   C128152295            0.0             0.0   \n",
       "44585      9   PAYMENT    8489.66   C155879359            0.0             0.0   \n",
       "633386    35   PAYMENT     418.79  C1139969983            0.0             0.0   \n",
       "\n",
       "           nameDest  oldbalanceDest  newbalanceDest  isFraud  isFlaggedFraud  \n",
       "824967  C1232579010      2541014.23      3142898.54        0               0  \n",
       "198186  C1624477723      5239551.92      6453881.16        0               0  \n",
       "107168  C1347294617      1504513.19      1540141.96        0               0  \n",
       "44585    M140771514            0.00            0.00        0               0  \n",
       "633386  M1830667392            0.00            0.00        0               0  "
      ]
     },
     "execution_count": 37,
     "metadata": {},
     "output_type": "execute_result"
    }
   ],
   "source": [
    "new_dataset.head()"
   ]
  },
  {
   "cell_type": "code",
   "execution_count": 38,
   "metadata": {
    "colab": {
     "base_uri": "https://localhost:8080/",
     "height": 223
    },
    "id": "YdvEWT33DsCC",
    "outputId": "6b6c7624-219a-40d7-9cdb-241754493097"
   },
   "outputs": [
    {
     "data": {
      "text/html": [
       "<div>\n",
       "<style scoped>\n",
       "    .dataframe tbody tr th:only-of-type {\n",
       "        vertical-align: middle;\n",
       "    }\n",
       "\n",
       "    .dataframe tbody tr th {\n",
       "        vertical-align: top;\n",
       "    }\n",
       "\n",
       "    .dataframe thead th {\n",
       "        text-align: right;\n",
       "    }\n",
       "</style>\n",
       "<table border=\"1\" class=\"dataframe\">\n",
       "  <thead>\n",
       "    <tr style=\"text-align: right;\">\n",
       "      <th></th>\n",
       "      <th>step</th>\n",
       "      <th>type</th>\n",
       "      <th>amount</th>\n",
       "      <th>nameOrig</th>\n",
       "      <th>oldbalanceOrg</th>\n",
       "      <th>newbalanceOrig</th>\n",
       "      <th>nameDest</th>\n",
       "      <th>oldbalanceDest</th>\n",
       "      <th>newbalanceDest</th>\n",
       "      <th>isFraud</th>\n",
       "      <th>isFlaggedFraud</th>\n",
       "    </tr>\n",
       "  </thead>\n",
       "  <tbody>\n",
       "    <tr>\n",
       "      <td>1015322</td>\n",
       "      <td>47</td>\n",
       "      <td>PAYMENT</td>\n",
       "      <td>7104.81</td>\n",
       "      <td>C1847663798</td>\n",
       "      <td>1.0</td>\n",
       "      <td>0.0</td>\n",
       "      <td>M1761542354</td>\n",
       "      <td>0.0</td>\n",
       "      <td>0.0</td>\n",
       "      <td>0</td>\n",
       "      <td>0</td>\n",
       "    </tr>\n",
       "    <tr>\n",
       "      <td>1015377</td>\n",
       "      <td>47</td>\n",
       "      <td>PAYMENT</td>\n",
       "      <td>1168.28</td>\n",
       "      <td>C674471060</td>\n",
       "      <td>1.0</td>\n",
       "      <td>0.0</td>\n",
       "      <td>M227873398</td>\n",
       "      <td>0.0</td>\n",
       "      <td>0.0</td>\n",
       "      <td>0</td>\n",
       "      <td>0</td>\n",
       "    </tr>\n",
       "    <tr>\n",
       "      <td>1021280</td>\n",
       "      <td>47</td>\n",
       "      <td>PAYMENT</td>\n",
       "      <td>5958.48</td>\n",
       "      <td>C1288288967</td>\n",
       "      <td>1.0</td>\n",
       "      <td>0.0</td>\n",
       "      <td>M1494806322</td>\n",
       "      <td>0.0</td>\n",
       "      <td>0.0</td>\n",
       "      <td>0</td>\n",
       "      <td>0</td>\n",
       "    </tr>\n",
       "    <tr>\n",
       "      <td>1022650</td>\n",
       "      <td>47</td>\n",
       "      <td>PAYMENT</td>\n",
       "      <td>4214.16</td>\n",
       "      <td>C751318458</td>\n",
       "      <td>1.0</td>\n",
       "      <td>0.0</td>\n",
       "      <td>M1716656254</td>\n",
       "      <td>0.0</td>\n",
       "      <td>0.0</td>\n",
       "      <td>0</td>\n",
       "      <td>0</td>\n",
       "    </tr>\n",
       "    <tr>\n",
       "      <td>1036389</td>\n",
       "      <td>94</td>\n",
       "      <td>PAYMENT</td>\n",
       "      <td>8414.81</td>\n",
       "      <td>C151816795</td>\n",
       "      <td>1.0</td>\n",
       "      <td>0.0</td>\n",
       "      <td>M999212208</td>\n",
       "      <td>0.0</td>\n",
       "      <td>0.0</td>\n",
       "      <td>0</td>\n",
       "      <td>0</td>\n",
       "    </tr>\n",
       "  </tbody>\n",
       "</table>\n",
       "</div>"
      ],
      "text/plain": [
       "         step     type   amount     nameOrig  oldbalanceOrg  newbalanceOrig  \\\n",
       "1015322    47  PAYMENT  7104.81  C1847663798            1.0             0.0   \n",
       "1015377    47  PAYMENT  1168.28   C674471060            1.0             0.0   \n",
       "1021280    47  PAYMENT  5958.48  C1288288967            1.0             0.0   \n",
       "1022650    47  PAYMENT  4214.16   C751318458            1.0             0.0   \n",
       "1036389    94  PAYMENT  8414.81   C151816795            1.0             0.0   \n",
       "\n",
       "            nameDest  oldbalanceDest  newbalanceDest  isFraud  isFlaggedFraud  \n",
       "1015322  M1761542354             0.0             0.0        0               0  \n",
       "1015377   M227873398             0.0             0.0        0               0  \n",
       "1021280  M1494806322             0.0             0.0        0               0  \n",
       "1022650  M1716656254             0.0             0.0        0               0  \n",
       "1036389   M999212208             0.0             0.0        0               0  "
      ]
     },
     "execution_count": 38,
     "metadata": {},
     "output_type": "execute_result"
    }
   ],
   "source": [
    "new_dataset.tail()"
   ]
  },
  {
   "cell_type": "code",
   "execution_count": 52,
   "metadata": {
    "colab": {
     "base_uri": "https://localhost:8080/"
    },
    "id": "SJjyXuTHDuQr",
    "outputId": "768d1286-ce01-413b-f297-4cb7c133b41c"
   },
   "outputs": [
    {
     "data": {
      "text/plain": [
       "53371.28     1\n",
       "61687.02     1\n",
       "99674.85     1\n",
       "57225.48     1\n",
       "4129.99      1\n",
       "            ..\n",
       "29018.33     1\n",
       "12505.27     1\n",
       "7587.20      1\n",
       "193667.88    1\n",
       "11721.55     1\n",
       "Name: amount, Length: 549, dtype: int64"
      ]
     },
     "execution_count": 52,
     "metadata": {},
     "output_type": "execute_result"
    }
   ],
   "source": [
    "new_dataset['amount'].value_counts()"
   ]
  },
  {
   "cell_type": "code",
   "execution_count": 53,
   "metadata": {
    "colab": {
     "base_uri": "https://localhost:8080/",
     "height": 162
    },
    "id": "Lchuy7YfDv3R",
    "outputId": "40478540-d57c-4ee0-dc6f-32740b8a8890"
   },
   "outputs": [
    {
     "data": {
      "text/html": [
       "<div>\n",
       "<style scoped>\n",
       "    .dataframe tbody tr th:only-of-type {\n",
       "        vertical-align: middle;\n",
       "    }\n",
       "\n",
       "    .dataframe tbody tr th {\n",
       "        vertical-align: top;\n",
       "    }\n",
       "\n",
       "    .dataframe thead th {\n",
       "        text-align: right;\n",
       "    }\n",
       "</style>\n",
       "<table border=\"1\" class=\"dataframe\">\n",
       "  <thead>\n",
       "    <tr style=\"text-align: right;\">\n",
       "      <th></th>\n",
       "      <th>step</th>\n",
       "      <th>oldbalanceOrg</th>\n",
       "      <th>newbalanceOrig</th>\n",
       "      <th>oldbalanceDest</th>\n",
       "      <th>newbalanceDest</th>\n",
       "      <th>isFraud</th>\n",
       "      <th>isFlaggedFraud</th>\n",
       "    </tr>\n",
       "    <tr>\n",
       "      <th>amount</th>\n",
       "      <th></th>\n",
       "      <th></th>\n",
       "      <th></th>\n",
       "      <th></th>\n",
       "      <th></th>\n",
       "      <th></th>\n",
       "      <th></th>\n",
       "    </tr>\n",
       "  </thead>\n",
       "  <tbody>\n",
       "    <tr>\n",
       "      <td>99.96</td>\n",
       "      <td>12</td>\n",
       "      <td>0.0</td>\n",
       "      <td>0.0</td>\n",
       "      <td>0.00</td>\n",
       "      <td>0.00</td>\n",
       "      <td>0</td>\n",
       "      <td>0</td>\n",
       "    </tr>\n",
       "    <tr>\n",
       "      <td>141.14</td>\n",
       "      <td>8</td>\n",
       "      <td>0.0</td>\n",
       "      <td>0.0</td>\n",
       "      <td>0.00</td>\n",
       "      <td>0.00</td>\n",
       "      <td>0</td>\n",
       "      <td>0</td>\n",
       "    </tr>\n",
       "    <tr>\n",
       "      <td>266.76</td>\n",
       "      <td>36</td>\n",
       "      <td>0.0</td>\n",
       "      <td>0.0</td>\n",
       "      <td>2592189.83</td>\n",
       "      <td>2592456.59</td>\n",
       "      <td>0</td>\n",
       "      <td>0</td>\n",
       "    </tr>\n",
       "    <tr>\n",
       "      <td>418.79</td>\n",
       "      <td>35</td>\n",
       "      <td>0.0</td>\n",
       "      <td>0.0</td>\n",
       "      <td>0.00</td>\n",
       "      <td>0.00</td>\n",
       "      <td>0</td>\n",
       "      <td>0</td>\n",
       "    </tr>\n",
       "    <tr>\n",
       "      <td>514.11</td>\n",
       "      <td>40</td>\n",
       "      <td>0.0</td>\n",
       "      <td>0.0</td>\n",
       "      <td>0.00</td>\n",
       "      <td>0.00</td>\n",
       "      <td>0</td>\n",
       "      <td>0</td>\n",
       "    </tr>\n",
       "    <tr>\n",
       "      <td>...</td>\n",
       "      <td>...</td>\n",
       "      <td>...</td>\n",
       "      <td>...</td>\n",
       "      <td>...</td>\n",
       "      <td>...</td>\n",
       "      <td>...</td>\n",
       "      <td>...</td>\n",
       "    </tr>\n",
       "    <tr>\n",
       "      <td>1650105.17</td>\n",
       "      <td>13</td>\n",
       "      <td>0.0</td>\n",
       "      <td>0.0</td>\n",
       "      <td>3150492.21</td>\n",
       "      <td>4800597.38</td>\n",
       "      <td>0</td>\n",
       "      <td>0</td>\n",
       "    </tr>\n",
       "    <tr>\n",
       "      <td>1778021.48</td>\n",
       "      <td>11</td>\n",
       "      <td>0.0</td>\n",
       "      <td>0.0</td>\n",
       "      <td>13745654.38</td>\n",
       "      <td>15523675.86</td>\n",
       "      <td>0</td>\n",
       "      <td>0</td>\n",
       "    </tr>\n",
       "    <tr>\n",
       "      <td>1815824.10</td>\n",
       "      <td>48</td>\n",
       "      <td>0.0</td>\n",
       "      <td>0.0</td>\n",
       "      <td>5236794.92</td>\n",
       "      <td>7052619.02</td>\n",
       "      <td>0</td>\n",
       "      <td>0</td>\n",
       "    </tr>\n",
       "    <tr>\n",
       "      <td>1999955.90</td>\n",
       "      <td>47</td>\n",
       "      <td>0.0</td>\n",
       "      <td>0.0</td>\n",
       "      <td>2354175.21</td>\n",
       "      <td>4354131.11</td>\n",
       "      <td>0</td>\n",
       "      <td>0</td>\n",
       "    </tr>\n",
       "    <tr>\n",
       "      <td>2943850.49</td>\n",
       "      <td>9</td>\n",
       "      <td>0.0</td>\n",
       "      <td>0.0</td>\n",
       "      <td>3002183.48</td>\n",
       "      <td>6465797.75</td>\n",
       "      <td>0</td>\n",
       "      <td>0</td>\n",
       "    </tr>\n",
       "  </tbody>\n",
       "</table>\n",
       "<p>549 rows × 7 columns</p>\n",
       "</div>"
      ],
      "text/plain": [
       "            step  oldbalanceOrg  newbalanceOrig  oldbalanceDest  \\\n",
       "amount                                                            \n",
       "99.96         12            0.0             0.0            0.00   \n",
       "141.14         8            0.0             0.0            0.00   \n",
       "266.76        36            0.0             0.0      2592189.83   \n",
       "418.79        35            0.0             0.0            0.00   \n",
       "514.11        40            0.0             0.0            0.00   \n",
       "...          ...            ...             ...             ...   \n",
       "1650105.17    13            0.0             0.0      3150492.21   \n",
       "1778021.48    11            0.0             0.0     13745654.38   \n",
       "1815824.10    48            0.0             0.0      5236794.92   \n",
       "1999955.90    47            0.0             0.0      2354175.21   \n",
       "2943850.49     9            0.0             0.0      3002183.48   \n",
       "\n",
       "            newbalanceDest  isFraud  isFlaggedFraud  \n",
       "amount                                               \n",
       "99.96                 0.00        0               0  \n",
       "141.14                0.00        0               0  \n",
       "266.76          2592456.59        0               0  \n",
       "418.79                0.00        0               0  \n",
       "514.11                0.00        0               0  \n",
       "...                    ...      ...             ...  \n",
       "1650105.17      4800597.38        0               0  \n",
       "1778021.48     15523675.86        0               0  \n",
       "1815824.10      7052619.02        0               0  \n",
       "1999955.90      4354131.11        0               0  \n",
       "2943850.49      6465797.75        0               0  \n",
       "\n",
       "[549 rows x 7 columns]"
      ]
     },
     "execution_count": 53,
     "metadata": {},
     "output_type": "execute_result"
    }
   ],
   "source": [
    "new_dataset.groupby('amount').mean()"
   ]
  },
  {
   "cell_type": "markdown",
   "metadata": {
    "id": "jVdxPud4DzPe"
   },
   "source": [
    "Splitting the data into Features and Targets"
   ]
  },
  {
   "cell_type": "code",
   "execution_count": 62,
   "metadata": {
    "id": "uF10Oe5RDxlX"
   },
   "outputs": [],
   "source": [
    "X = new_dataset.drop(columns='oldbalanceOrg', axis=1)\n",
    "Y = new_dataset['oldbalanceOrg']"
   ]
  },
  {
   "cell_type": "code",
   "execution_count": 64,
   "metadata": {
    "colab": {
     "base_uri": "https://localhost:8080/"
    },
    "id": "rj3oUiHMD10n",
    "outputId": "fe729953-b3c0-4c96-f475-1db4d2677b0d"
   },
   "outputs": [
    {
     "name": "stdout",
     "output_type": "stream",
     "text": [
      "         step      type     amount     nameOrig  newbalanceOrig     nameDest  \\\n",
      "824967     41  TRANSFER  601884.31  C1581786713             0.0  C1232579010   \n",
      "198186     13  TRANSFER  685652.08   C521959510             0.0  C1624477723   \n",
      "107168     10  CASH_OUT   35628.77   C128152295             0.0  C1347294617   \n",
      "44585       9   PAYMENT    8489.66   C155879359             0.0   M140771514   \n",
      "633386     35   PAYMENT     418.79  C1139969983             0.0  M1830667392   \n",
      "...       ...       ...        ...          ...             ...          ...   \n",
      "1015322    47   PAYMENT    7104.81  C1847663798             0.0  M1761542354   \n",
      "1015377    47   PAYMENT    1168.28   C674471060             0.0   M227873398   \n",
      "1021280    47   PAYMENT    5958.48  C1288288967             0.0  M1494806322   \n",
      "1022650    47   PAYMENT    4214.16   C751318458             0.0  M1716656254   \n",
      "1036389    94   PAYMENT    8414.81   C151816795             0.0   M999212208   \n",
      "\n",
      "         oldbalanceDest  newbalanceDest  isFraud  isFlaggedFraud  \n",
      "824967       2541014.23      3142898.54        0               0  \n",
      "198186       5239551.92      6453881.16        0               0  \n",
      "107168       1504513.19      1540141.96        0               0  \n",
      "44585              0.00            0.00        0               0  \n",
      "633386             0.00            0.00        0               0  \n",
      "...                 ...             ...      ...             ...  \n",
      "1015322            0.00            0.00        0               0  \n",
      "1015377            0.00            0.00        0               0  \n",
      "1021280            0.00            0.00        0               0  \n",
      "1022650            0.00            0.00        0               0  \n",
      "1036389            0.00            0.00        0               0  \n",
      "\n",
      "[549 rows x 10 columns]\n"
     ]
    }
   ],
   "source": [
    "print(X)"
   ]
  },
  {
   "cell_type": "code",
   "execution_count": 63,
   "metadata": {
    "colab": {
     "base_uri": "https://localhost:8080/"
    },
    "id": "m5GvzTNJD3eE",
    "outputId": "ae12650f-76ef-4248-fb90-10bfd1dfe1d1"
   },
   "outputs": [
    {
     "name": "stdout",
     "output_type": "stream",
     "text": [
      "824967     0.0\n",
      "198186     0.0\n",
      "107168     0.0\n",
      "44585      0.0\n",
      "633386     0.0\n",
      "          ... \n",
      "1015322    1.0\n",
      "1015377    1.0\n",
      "1021280    1.0\n",
      "1022650    1.0\n",
      "1036389    1.0\n",
      "Name: oldbalanceOrg, Length: 549, dtype: float64\n"
     ]
    }
   ],
   "source": [
    "print(Y)"
   ]
  },
  {
   "cell_type": "markdown",
   "metadata": {
    "id": "L3nrBewjD_Pb"
   },
   "source": [
    "Train and Testing Split"
   ]
  },
  {
   "cell_type": "code",
   "execution_count": 65,
   "metadata": {
    "id": "UDvZRJoyD4xQ"
   },
   "outputs": [],
   "source": [
    "X_train, X_test, Y_train, Y_test = train_test_split(X, Y, test_size=0.2, stratify=Y, random_state=2)"
   ]
  },
  {
   "cell_type": "code",
   "execution_count": 66,
   "metadata": {
    "colab": {
     "base_uri": "https://localhost:8080/"
    },
    "id": "f0g6WjruEBJl",
    "outputId": "be7e97cc-0c5d-43c8-ef3c-b336eccbd0ec"
   },
   "outputs": [
    {
     "name": "stdout",
     "output_type": "stream",
     "text": [
      "(549, 10) (439, 10) (110, 10)\n"
     ]
    }
   ],
   "source": [
    "print(X.shape, X_train.shape, X_test.shape)"
   ]
  },
  {
   "cell_type": "code",
   "execution_count": null,
   "metadata": {
    "id": "QajzXv5GEWmj"
   },
   "outputs": [],
   "source": []
  }
 ],
 "metadata": {
  "colab": {
   "authorship_tag": "ABX9TyOvXvWa08x2LlWfoGmI6x8T",
   "collapsed_sections": [],
   "include_colab_link": true,
   "name": "Credit Card Fraud Detection.ipynb",
   "provenance": []
  },
  "kernelspec": {
   "display_name": "Python 3",
   "language": "python",
   "name": "python3"
  },
  "language_info": {
   "codemirror_mode": {
    "name": "ipython",
    "version": 3
   },
   "file_extension": ".py",
   "mimetype": "text/x-python",
   "name": "python",
   "nbconvert_exporter": "python",
   "pygments_lexer": "ipython3",
   "version": "3.7.4"
  }
 },
 "nbformat": 4,
 "nbformat_minor": 1
}
